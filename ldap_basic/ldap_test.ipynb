{
 "cells": [
  {
   "cell_type": "code",
   "execution_count": null,
   "metadata": {},
   "outputs": [],
   "source": [
    "import getpass"
   ]
  },
  {
   "cell_type": "code",
   "execution_count": null,
   "metadata": {},
   "outputs": [],
   "source": [
    "host = \"ldap://172.31.27.174:389\"\n",
    "username = \"Admin\"\n",
    "admin_dn = \"CN=Admin,OU=Users,OU=slurm-ad,DC=slurm-ad,DC=example,DC=com\"\n",
    "admin_pw = getpass.getpass(\"AD Admin password\")"
   ]
  },
  {
   "cell_type": "markdown",
   "metadata": {},
   "source": [
    "#### List all users"
   ]
  },
  {
   "cell_type": "code",
   "execution_count": null,
   "metadata": {},
   "outputs": [],
   "source": [
    "!ldapsearch -x -H {host} -b \"cn=Users,dc=slurm-ad,dc=example,dc=com\" -s sub -D \"slurm-ad\\Admin\" -w \"{admin_pw}\" cn\n"
   ]
  },
  {
   "cell_type": "markdown",
   "metadata": {},
   "source": [
    "#### Get specific user"
   ]
  },
  {
   "cell_type": "code",
   "execution_count": null,
   "metadata": {},
   "outputs": [],
   "source": [
    "!ldapsearch -x -H {host} -b \"cn=Users,dc=slurm-ad,dc=example,dc=com\" -s sub -D \"slurm-ad\\Admin\" -w \"{admin_pw}\" cn=\"Guest\""
   ]
  },
  {
   "cell_type": "markdown",
   "metadata": {},
   "source": [
    "#### Dump all"
   ]
  },
  {
   "cell_type": "code",
   "execution_count": null,
   "metadata": {},
   "outputs": [],
   "source": [
    "!ldapsearch -x -H {host} -b \"dc=slurm-ad,dc=example,dc=com\" -s sub -D \"slurm-ad\\Admin\" -w \"{admin_pw}\" > dump.txt"
   ]
  },
  {
   "cell_type": "markdown",
   "metadata": {},
   "source": [
    "#### Add an organization"
   ]
  },
  {
   "cell_type": "code",
   "execution_count": null,
   "metadata": {},
   "outputs": [],
   "source": [
    "%%file dev1_add.ldif\n",
    "\n",
    "# Organization \"dev1\"\n",
    "dn: OU=dev1,OU=slurm-ad,DC=slurm-ad,DC=example,DC=com\n",
    "objectClass: top\n",
    "objectClass: organizationalUnit\n",
    "ou: dev1\n",
    "description: This is Development team1\n"
   ]
  },
  {
   "cell_type": "code",
   "execution_count": null,
   "metadata": {},
   "outputs": [],
   "source": [
    "!ldapadd -x -H {host} -D {admin_dn} -w \"{admin_pw}\" -f ./dev1_add.ldif"
   ]
  },
  {
   "cell_type": "markdown",
   "metadata": {},
   "source": [
    "#### Confirm organization added"
   ]
  },
  {
   "cell_type": "code",
   "execution_count": null,
   "metadata": {},
   "outputs": [],
   "source": [
    "!ldapsearch -x -H {host} -b \"dc=slurm-ad,dc=example,dc=com\" -s sub -D \"slurm-ad\\Admin\" -w \"{admin_pw}\" ou=\"dev1\""
   ]
  },
  {
   "cell_type": "markdown",
   "metadata": {},
   "source": [
    "#### Modify the organization's description field"
   ]
  },
  {
   "cell_type": "code",
   "execution_count": null,
   "metadata": {},
   "outputs": [],
   "source": [
    "%%file dev1_modify.ldif\n",
    "dn: OU=dev1,OU=slurm-ad,DC=slurm-ad,DC=example,DC=com\n",
    "changetype: modify\n",
    "replace: description\n",
    "description: This is Development team1 (updated)\n"
   ]
  },
  {
   "cell_type": "code",
   "execution_count": null,
   "metadata": {},
   "outputs": [],
   "source": [
    "!ldapmodify -x -H {host} -D {admin_dn} -w \"{admin_pw}\" -f ./dev1_modify.ldif"
   ]
  },
  {
   "cell_type": "code",
   "execution_count": null,
   "metadata": {},
   "outputs": [],
   "source": [
    "!ldapsearch -x -H {host} -b \"dc=slurm-ad,dc=example,dc=com\" -s sub -D \"slurm-ad\\Admin\" -w \"{admin_pw}\" ou=\"dev1\""
   ]
  },
  {
   "cell_type": "markdown",
   "metadata": {},
   "source": [
    "#### Delete the organization"
   ]
  },
  {
   "cell_type": "code",
   "execution_count": null,
   "metadata": {},
   "outputs": [],
   "source": [
    "%%file dev1_delete.ldif\n",
    "OU=dev1,OU=slurm-ad,DC=slurm-ad,DC=example,DC=com\n"
   ]
  },
  {
   "cell_type": "code",
   "execution_count": null,
   "metadata": {},
   "outputs": [],
   "source": [
    "!ldapdelete -x -H {host} -D {admin_dn} -w \"{admin_pw}\" -f ./dev1_delete.ldif"
   ]
  },
  {
   "cell_type": "code",
   "execution_count": null,
   "metadata": {},
   "outputs": [],
   "source": []
  }
 ],
 "metadata": {
  "kernelspec": {
   "display_name": "base",
   "language": "python",
   "name": "python3"
  },
  "language_info": {
   "codemirror_mode": {
    "name": "ipython",
    "version": 3
   },
   "file_extension": ".py",
   "mimetype": "text/x-python",
   "name": "python",
   "nbconvert_exporter": "python",
   "pygments_lexer": "ipython3",
   "version": "3.11.5"
  }
 },
 "nbformat": 4,
 "nbformat_minor": 2
}
